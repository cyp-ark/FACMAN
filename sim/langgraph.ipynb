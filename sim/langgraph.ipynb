{
 "cells": [
  {
   "cell_type": "code",
   "execution_count": null,
   "metadata": {},
   "outputs": [],
   "source": [
    "import os\n",
    "from dotenv import load_dotenv\n",
    "from langchain_openai import ChatOpenAI\n",
    "from langchain_core.tools import Tool\n",
    "from langchain_community.tools.tavily_search import TavilySearchResults\n",
    "\n",
    "load_dotenv()\n",
    "api_key = os.getenv(\"OPENAI_API_KEY\")"
   ]
  },
  {
   "cell_type": "code",
   "execution_count": 2,
   "metadata": {},
   "outputs": [],
   "source": [
    "tool = TavilySearchResults(max_results=2)\n",
    "tools = [tool]\n",
    "\n",
    "llm = ChatOpenAI(model=\"gpt-4o\")\n",
    "llm_with_tools = llm.bind_tools(tools)"
   ]
  },
  {
   "cell_type": "markdown",
   "metadata": {},
   "source": [
    "## Agent 만들기"
   ]
  },
  {
   "cell_type": "code",
   "execution_count": 4,
   "metadata": {},
   "outputs": [],
   "source": [
    "from typing_extensions import TypedDict\n",
    "from typing import Annotated\n",
    "from langgraph.graph import StateGraph, START, END\n",
    "from langgraph.graph.message import add_messages"
   ]
  },
  {
   "cell_type": "code",
   "execution_count": 5,
   "metadata": {},
   "outputs": [
    {
     "data": {
      "text/plain": [
       "<langgraph.graph.state.StateGraph at 0x117d62550>"
      ]
     },
     "execution_count": 5,
     "metadata": {},
     "output_type": "execute_result"
    }
   ],
   "source": [
    "class State(TypedDict): # 그래프의 상태를 정의하는 클래스\n",
    "    messages: Annotated[list, add_messages] # 메시지 누적\n",
    "\n",
    "graph_builder = StateGraph(State) # StateGraph 생성 (대화 흐름 관리)\n",
    "\n",
    "def chatbot(state: State):\n",
    "    return {\"messages\": [llm_with_tools.invoke(state[\"messages\"])]}\n",
    "\n",
    "graph_builder.add_node(\"chatbot\", chatbot)"
   ]
  },
  {
   "cell_type": "code",
   "execution_count": 6,
   "metadata": {},
   "outputs": [
    {
     "data": {
      "text/plain": [
       "<langgraph.graph.state.StateGraph at 0x117d62550>"
      ]
     },
     "execution_count": 6,
     "metadata": {},
     "output_type": "execute_result"
    }
   ],
   "source": [
    "import json\n",
    "from langchain_core.messages import ToolMessage\n",
    "\n",
    "class BasicToolNode:\n",
    "    \"\"\"\n",
    "        A node that runs the tools requested in the last AIMessage.\n",
    "        마지막 AIMessage에서 요청된 도구를 실행하는 노드\n",
    "    \"\"\"\n",
    "\n",
    "    def __init__(self, tools: list) -> None:\n",
    "        self.tools_by_name = {tool.name: tool for tool in tools} # [\"tavily_search_results_json\" : TavilySearchResults()]\n",
    "\n",
    "    def __call__(self, inputs: dict):\n",
    "        if messages := inputs.get(\"messages\", []):\n",
    "            message = messages[-1] # 마지막 message\n",
    "        else:\n",
    "            raise ValueError(\"No message found in input\")\n",
    "        outputs = []\n",
    "        for tool_call in message.tool_calls: # 메시지에서 호출된 도구를 불러옴\n",
    "            tool_result = self.tools_by_name[tool_call[\"name\"]].invoke( # Tool 호출 실행\n",
    "                tool_call[\"args\"]\n",
    "            )\n",
    "            outputs.append( # Tool 호출 결과(ToolMessage) 추가\n",
    "                ToolMessage(\n",
    "                    content=json.dumps(tool_result),\n",
    "                    name=tool_call[\"name\"],\n",
    "                    tool_call_id=tool_call[\"id\"],\n",
    "                )\n",
    "            )\n",
    "        return {\"messages\": outputs}\n",
    "\n",
    "tool_node = BasicToolNode(tools=[tool])\n",
    "graph_builder.add_node(\"tools\", tool_node)"
   ]
  },
  {
   "cell_type": "code",
   "execution_count": 7,
   "metadata": {},
   "outputs": [
    {
     "data": {
      "text/plain": [
       "<langgraph.graph.state.StateGraph at 0x117d62550>"
      ]
     },
     "execution_count": 7,
     "metadata": {},
     "output_type": "execute_result"
    }
   ],
   "source": [
    "def route_tools(\n",
    "    state: State,\n",
    "):\n",
    "    \"\"\"\n",
    "    Use in the conditional_edge to route to the ToolNode if the last message\n",
    "    has tool calls. Otherwise, route to the end.\n",
    "    \"\"\"\n",
    "    if isinstance(state, list):\n",
    "        ai_message = state[-1]\n",
    "    elif messages := state.get(\"messages\", []):\n",
    "        ai_message = messages[-1]\n",
    "    else:\n",
    "        raise ValueError(f\"No messages found in input state to tool_edge: {state}\")\n",
    "    if hasattr(ai_message, \"tool_calls\") and len(ai_message.tool_calls) > 0: # if the last message has \"tool_calls\"\n",
    "        return \"tools\"\n",
    "    return END\n",
    "\n",
    "# 조건부 엣지 연결\n",
    "graph_builder.add_conditional_edges(\n",
    "    \"chatbot\", # 시작 노드\n",
    "    route_tools,\n",
    "    {\"tools\": \"tools\", END: END}, # 반환값이 \"tools\" 면 \"tools\" 노드로, END 면 END로 이동\n",
    ")"
   ]
  },
  {
   "cell_type": "code",
   "execution_count": 8,
   "metadata": {},
   "outputs": [],
   "source": [
    "# 엣지 연결\n",
    "graph_builder.add_edge(\"tools\", \"chatbot\") # 도구가 호출될 때마다 챗봇으로 돌아가 다음 단계를 결정\n",
    "graph_builder.add_edge(START, \"chatbot\")\n",
    "graph = graph_builder.compile()"
   ]
  },
  {
   "cell_type": "code",
   "execution_count": null,
   "metadata": {},
   "outputs": [
    {
     "data": {
      "image/png": "[encoded data removed]",
      "text/plain": [
       "<IPython.core.display.Image object>"
      ]
     },
     "metadata": {},
     "output_type": "display_data"
    }
   ],
   "source": []
  },
  {
   "cell_type": "markdown",
   "metadata": {},
   "source": [
    "### Invoke"
   ]
  },
  {
   "cell_type": "code",
   "execution_count": 10,
   "metadata": {},
   "outputs": [],
   "source": [
    "def stream_graph_updates(user_input: str):\n",
    "    for event in graph.stream({\"messages\": [{\"role\": \"user\", \"content\": user_input}]}): # graph 노드 호출 결과 받아옴\n",
    "        for value in event.values():\n",
    "            print(\"Assistant:\", value[\"messages\"][-1].content) # AI 답변 출력"
   ]
  },
  {
   "cell_type": "code",
   "execution_count": 11,
   "metadata": {},
   "outputs": [
    {
     "name": "stdout",
     "output_type": "stream",
     "text": [
      "Assistant: Hello! How can I assist you today?\n",
      "Assistant: \n",
      "Assistant: [{\"title\": \"\\ub798\\ud504 - \\ud50c\\ub808\\uc774\\uc5b4 \\uc804\\uc801 :: \\uc774\\ud130\\ub110 \\ub9ac\\ud134 \\ub2e5\\uc9c0\\uc9c0\", \"url\": \"https://dak.gg/er/players/%EB%9E%98%ED%94%84?season=PRE_SEASON_10&gameMode=RANK&character=Emma\", \"content\": \"\\ub7ad\\ud06c\\uc2e4\\ud5d8\\uccb4 \\ud1b5\\uacc4 ; \\uc544\\ub514\\ub098. 37 \\uac8c\\uc784. 24.3%. up-arrow 2747 ; \\uc5e0\\ub9c8. 25 \\uac8c\\uc784. 16.0%. up-arrow 890 ; \\ube44\\uc559\\uce74. 14 \\uac8c\\uc784. 21.4%. up-arrow 410 ; \\ub9ac \\ub2e4\\uc774\\ub9b0. 11 \\uac8c\\uc784. 18.2%. up-\", \"score\": 0.22740968}, {\"title\": \"[\\uadf8\\ub798\\ud504\\uc640 \\ucd94\\ucc9c \\uc2dc\\uc2a4\\ud15c] \\ud398\\uc774\\uc9c0 \\ub7ad\\ud06c - \\uc790\\uc730\\uc774\\uc758 \\uc131\\uc7a5\\uc77c\\uae30\", \"url\": \"https://think-tech.tistory.com/48\", \"content\": \"\\ud398\\uc774\\uc9c0 \\ub7ad\\ud06c(Page Rank)\\ub780? \\uc6f9\\uc740 \\uc6f9 \\ud398\\uc774\\uc9c0\\uc640 \\ud558\\uc774\\ud37c\\ub9c1\\ud06c\\ub85c \\uad6c\\uc131\\ub41c \\ubc29\\ud5a5\\uc131\\uc774 \\uc788\\ub294 \\uadf8\\ub798\\ud504\\ub77c\\uace0 \\ubcfc \\uc218 \\uc788\\uc2b5\\ub2c8\\ub2e4. \\uc608\\ub97c \\ub4e4\\uc5b4, \\ub124\\uc774\\ubc84 -> \\ub124\\uc774\\ubc84 \\uac80\\uc0c9\", \"score\": 0.20977746}]\n",
      "Assistant: 현재 \"랭크래프\"에 대한 정보는 명확하게 제공되지 않았습니다. 해당 용어가 덜 알려져 있거나 별도 맥락에서 사용되는 것일 수 있습니다. 혹시 다른 이름이나 설명을 더 제공해 줄 수 있다면, 보다 정확한 정보를 찾는 데 도움이 될 것입니다.\n",
      "Assistant: \n",
      "Assistant: [{\"title\": \"LangGraph(\\ub7ad\\uadf8\\ub798\\ud504): AI \\uc6cc\\ud06c\\ud50c\\ub85c\\uc6b0\\uc758 \\ud601\\uc2e0, \\ubb34\\uc5c7\\uc744 \\ub9cc\\ub4e4 \\uc218 \\uc788\\uc744\\uae4c?\", \"url\": \"https://modulabs.co.kr/blog/langgraph_multiagent\", \"content\": \"\\ub7ad\\uadf8\\ub798\\ud504 (LangGraph)\\ub294 \\uc5d4\\ud130\\ud504\\ub77c\\uc774\\uc988\\uae09 AI \\uc6cc\\ud06c\\ud50c\\ub85c\\uc6b0 \\uad00\\ub9ac\\ub97c \\uc704\\ud55c \\uac15\\ub825\\ud55c \\ub3c4\\uad6c\\ub85c, \\uc720\\uc5f0\\ud55c \\uadf8\\ub798\\ud504 \\uae30\\ubc18 \\uad6c\\uc870\\uc640 \\uc790\\uc728\\uc801 \\uc758\\uc0ac\\uacb0\\uc815 \\uc2dc\\uc2a4\\ud15c\\uc744 \\uc811\\ubaa9\\ud55c RAG\", \"score\": 0.8729662}, {\"title\": \"1-1. \\ub7ad\\uadf8\\ub798\\ud504 LangGraph \\uc18c\\uac1c - \\uc704\\ud0a4\\ub3c5\\uc2a4\", \"url\": \"https://wikidocs.net/261577\", \"content\": \"LangGraph \\uac00\\uc774\\ub4dc\\ubd81 - \\uc5d0\\uc774\\uc804\\ud2b8 RA\\u2026\\nPart 1. \\ub7ad\\uadf8\\ub798\\ud504 LangGraph \\uae30\\ucd08\\n\\n1-1. \\ub7ad\\uadf8\\ub798\\ud504 LangGraph \\uc18c\\uac1c\\n\\n\\n\\ub3c4\\uc11c \\uc99d\\uc815 \\uc774\\ubca4\\ud2b8 !!\\n\\nWikiDocs\\n\\n1-1. \\ub7ad\\uadf8\\ub798\\ud504 LangGraph \\uc18c\\uac1c\\n\\ub7ad\\uadf8\\ub798\\ud504 (LangGraph) \\uc18c\\uac1c\\nLangGraph\\ub294 \\uc790\\uc5f0\\uc5b4 \\ucc98\\ub9ac\\uc640 AI \\uc751\\uc6a9 \\ud504\\ub85c\\uadf8\\ub7a8 \\uac1c\\ubc1c\\uc744 \\uc704\\ud55c \\uac15\\ub825\\ud55c \\ud504\\ub808\\uc784\\uc6cc\\ud06c\\ub85c, \\ubcf5\\uc7a1\\ud55c \\uc5b8\\uc5b4 \\ubaa8\\ub378\\uacfc\\uc758 \\uc0c1\\ud638\\uc791\\uc6a9\\uc744 \\ud6a8\\uc728\\uc801\\uc774\\uace0 \\uad6c\\uc870\\ud654\\ub41c \\ubc29\\uc2dd\\uc73c\\ub85c \\uad6c\\ud604\\ud560 \\uc218 \\uc788\\ub3c4\\ub85d \\ub3d5\\uc2b5\\ub2c8\\ub2e4. \\ub2e4\\uc591\\ud55c \\ub370\\uc774\\ud130 \\uc18c\\uc2a4\\uc640 \\uc5b8\\uc5b4 \\ubaa8\\ub378\\uc744 \\ud1b5\\ud569\\ud558\\uc5ec \\uc9c0\\ub2a5\\ud615 \\uc751\\ub2f5 \\uc0dd\\uc131, \\uc815\\ubcf4 \\uac80\\uc0c9, \\ud14d\\uc2a4\\ud2b8 \\ubd84\\uc11d \\ub4f1\\uc758 \\uace0\\ub3c4\\ud654\\ub41c \\uc2dc\\uc2a4\\ud15c\\uc744 \\uad6c\\ucd95\\ud560 \\uc218 \\uc788\\uc2b5\\ub2c8\\ub2e4.\\n\\n\\uc774\\ubc88 \\uc139\\uc158\\uc5d0\\uc11c\\ub294 LangGraph\\uc758 \\uac1c\\ub150\\uacfc \\ud2b9\\uc9d5, LangChain\\uacfc\\uc758 \\ucc28\\uc774\\uc810, \\uadf8\\ub9ac\\uace0 LangGraph\\ub97c \\uc0ac\\uc6a9\\ud574\\uc57c \\ud558\\ub294 \\uc774\\uc720\\uc5d0 \\ub300\\ud574\\uc11c \\uc0b4\\ud3b4\\ubcf4\\uaca0\\uc2b5\\ub2c8\\ub2e4.\", \"score\": 0.7555112}]\n",
      "Assistant: 랭그래프(LangGraph)는 AI 기반의 워크플로우 관리를 위한 강력한 도구로, 자연어 처리 및 AI 응용 프로그램 개발을 지원하는 프레임워크입니다. 유연한 그래프 기반 구조와 자율적인 의사결정 시스템을 포함하여 복잡한 언어 모델과의 상호작용을 효율적으로 구현할 수 있도록 설계되어 있습니다. 다양한 데이터 소스와 언어 모델을 통합하여, 지능형 응답 생성, 정보 검색, 텍스트 분석 등의 고도화된 시스템을 구축할 수 있도록 돕습니다.\n",
      "\n",
      "추가 정보를 원하신다면 [여기](https://modulabs.co.kr/blog/langgraph_multiagent)나 [여기](https://wikidocs.net/261577)에서 확인할 수 있습니다.\n",
      "Goodbye!\n"
     ]
    }
   ],
   "source": [
    "while True:\n",
    "    try:\n",
    "        user_input = input(\"User: \")\n",
    "        if user_input.lower() in [\"quit\", \"exit\", \"q\"]:\n",
    "            print(\"Goodbye!\")\n",
    "            break\n",
    "\n",
    "        stream_graph_updates(user_input)\n",
    "    except:\n",
    "        # fallback if input() is not available\n",
    "        user_input = \"What do you know about LangGraph?\"\n",
    "        print(\"User: \" + user_input)\n",
    "        stream_graph_updates(user_input)\n",
    "        break"
   ]
  },
  {
   "cell_type": "code",
   "execution_count": null,
   "metadata": {},
   "outputs": [],
   "source": []
  },
  {
   "cell_type": "code",
   "execution_count": null,
   "metadata": {},
   "outputs": [],
   "source": [
    "from IPython.display import Image, display\n",
    "\n",
    "try:\n",
    "    display(Image(graph.get_graph().draw_mermaid_png()))\n",
    "except Exception:\n",
    "    # This requires some extra dependencies and is optional\n",
    "    pass"
   ]
  },
  {
   "cell_type": "code",
   "execution_count": null,
   "metadata": {},
   "outputs": [],
   "source": []
  }
 ],
 "metadata": {
  "kernelspec": {
   "display_name": "sim",
   "language": "python",
   "name": "python3"
  },
  "language_info": {
   "codemirror_mode": {
    "name": "ipython",
    "version": 3
   },
   "file_extension": ".py",
   "mimetype": "text/x-python",
   "name": "python",
   "nbconvert_exporter": "python",
   "pygments_lexer": "ipython3",
   "version": "3.11.11"
  }
 },
 "nbformat": 4,
 "nbformat_minor": 2
}
