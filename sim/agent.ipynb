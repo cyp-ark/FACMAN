{
 "cells": [
  {
   "cell_type": "code",
   "execution_count": 2,
   "metadata": {},
   "outputs": [],
   "source": [
    "from dotenv import load_dotenv\n",
    "import os\n",
    "from influxdb_client import InfluxDBClient, QueryApi\n",
    "from langgraph.graph import StateGraph\n",
    "from langchain_openai import ChatOpenAI\n",
    "from langchain.prompts import ChatPromptTemplate, MessagesPlaceholder\n",
    "from langchain.tools.render import format_tool_to_openai_function\n",
    "from typing import Annotated, Sequence, Tuple, TypedDict, Union\n",
    "from typing_extensions import TypedDict\n",
    "from langchain_core.messages import (\n",
    "    BaseMessage,\n",
    "    FunctionMessage,\n",
    "    HumanMessage,\n",
    ")\n",
    "import operator\n",
    "\n",
    "load_dotenv()\n",
    "\n",
    "influxdb_url = os.getenv(\"INFLUXDB_URL\")\n",
    "influxdb_token = os.getenv(\"INFLUXDB_TOKEN\")\n",
    "influxdb_org = os.getenv(\"INFLUXDB_ORG\")\n",
    "api_key = os.getenv(\"OPENAI_API_KEY\")\n",
    "\n",
    "client = InfluxDBClient(\n",
    "    url=influxdb_url,\n",
    "    token=influxdb_token,\n",
    "    org=influxdb_org,\n",
    ")\n",
    "\n",
    "query_api = client.query_api()"
   ]
  },
  {
   "cell_type": "code",
   "execution_count": 5,
   "metadata": {},
   "outputs": [],
   "source": [
    "def create_agent(llm, tools, system_message: str):\n",
    "    # 에이전트를 생성합니다.\n",
    "    functions = [format_tool_to_openai_function(t) for t in tools]\n",
    "\n",
    "    prompt = ChatPromptTemplate.from_messages(\n",
    "        [\n",
    "            (\n",
    "                \"system\",\n",
    "                \"You are a helpful AI assistant, collaborating with other assistants.\"\n",
    "                \" Use the provided tools to progress towards answering the question.\"\n",
    "                \" If you are unable to fully answer, that's OK, another assistant with different tools \"\n",
    "                \" will help where you left off. Execute what you can to make progress.\"\n",
    "                \" If you or any of the other assistants have the final answer or deliverable,\"\n",
    "                \" prefix your response with FINAL ANSWER so the team knows to stop.\"\n",
    "                \" You have access to the following tools: {tool_names}.\\n{system_message}\",\n",
    "            ),\n",
    "            MessagesPlaceholder(variable_name=\"messages\"),\n",
    "        ]\n",
    "    )\n",
    "    prompt = prompt.partial(system_message=system_message)\n",
    "    prompt = prompt.partial(tool_names=\", \".join(\n",
    "        [tool.name for tool in tools]))\n",
    "    return prompt | llm.bind_functions(functions)"
   ]
  },
  {
   "cell_type": "code",
   "execution_count": 8,
   "metadata": {},
   "outputs": [],
   "source": [
    "def influx_tool(\n",
    "    query: Annotated[str, \"The complete Flux query to execute. This should be a valid Flux query language string.\"],\n",
    "):\n",
    "    \"\"\"\n",
    "    Execute a Flux query on InfluxDB.\n",
    "    \n",
    "    Args:\n",
    "        query: The complete Flux query to execute. This should be a valid Flux query language string.\n",
    "              Example: 'from(bucket: \"P1-A_status\") |> range(start: -1h) |> filter(fn: (r) => r._measurement == \"available\")'\n",
    "        \n",
    "    Returns:\n",
    "        The query results formatted as a string\n",
    "    \"\"\"\n",
    "    try:\n",
    "        tables = query_api.query(query, org=influxdb_org)\n",
    "        \n",
    "        # Convert to a more usable format\n",
    "        results = []\n",
    "        for table in tables:\n",
    "            for record in table.records:\n",
    "                results.append(dict(record.values))\n",
    "                \n",
    "        if not results:\n",
    "            return \"No results found for the query.\"\n",
    "        \n",
    "        # Format the results for readability\n",
    "        formatted_results = \"\"\n",
    "        for i, record in enumerate(results[:10]):\n",
    "            formatted_results += f\"Record {i+1}:\\n\"\n",
    "            for key, value in record.items():\n",
    "                formatted_results += f\"  {key}: {value}\\n\"\n",
    "            formatted_results += \"\\n\"\n",
    "        \n",
    "        if len(results) > 10:\n",
    "            formatted_results += f\"... and {len(results) - 10} more records\"\n",
    "            \n",
    "        return formatted_results\n",
    "    except Exception as e:\n",
    "        return f\"Error querying InfluxDB: {str(e)}\""
   ]
  },
  {
   "cell_type": "code",
   "execution_count": 16,
   "metadata": {},
   "outputs": [],
   "source": [
    "class AgentState(TypedDict):\n",
    "    messages: Annotated[Sequence[BaseMessage], operator.add]\n",
    "    sender: str"
   ]
  },
  {
   "cell_type": "code",
   "execution_count": null,
   "metadata": {},
   "outputs": [],
   "source": []
  }
 ],
 "metadata": {
  "kernelspec": {
   "display_name": "sim",
   "language": "python",
   "name": "python3"
  },
  "language_info": {
   "codemirror_mode": {
    "name": "ipython",
    "version": 3
   },
   "file_extension": ".py",
   "mimetype": "text/x-python",
   "name": "python",
   "nbconvert_exporter": "python",
   "pygments_lexer": "ipython3",
   "version": "3.11.11"
  }
 },
 "nbformat": 4,
 "nbformat_minor": 2
}
