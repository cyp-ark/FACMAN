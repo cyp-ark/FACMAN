{
 "cells": [
  {
   "cell_type": "code",
   "execution_count": 4,
   "metadata": {},
   "outputs": [],
   "source": [
    "import redis\n",
    "from dotenv import load_dotenv\n",
    "import os\n",
    "\n",
    "load_dotenv()\n",
    "\n",
    "redis_url = os.getenv(\"REDIS_URL\")"
   ]
  },
  {
   "cell_type": "code",
   "execution_count": 5,
   "metadata": {},
   "outputs": [],
   "source": [
    "def send_maintenance_command(process_name):\n",
    "    try:\n",
    "        # Redis 연결 설정\n",
    "        redis_client = redis.from_url(\n",
    "            url=redis_url,\n",
    "            decode_responses=True\n",
    "        )\n",
    "\n",
    "        # 점검 명령 발행\n",
    "        channel = f\"{process_name}_maintenance\"\n",
    "        message = \"maintenance_request\"\n",
    "        redis_client.publish(channel, message)\n",
    "        print(f\"Sent maintenance command to {channel}: {message}\")\n",
    "\n",
    "    except Exception as e:\n",
    "        print(f\"Failed to send maintenance command: {e}\")"
   ]
  },
  {
   "cell_type": "code",
   "execution_count": 45,
   "metadata": {},
   "outputs": [
    {
     "name": "stdout",
     "output_type": "stream",
     "text": [
      "Sent maintenance command to P1-A_maintenance: maintenance_request\n"
     ]
    }
   ],
   "source": [
    "send_maintenance_command(\"P1-A\")"
   ]
  }
 ],
 "metadata": {
  "kernelspec": {
   "display_name": "sim",
   "language": "python",
   "name": "python3"
  },
  "language_info": {
   "codemirror_mode": {
    "name": "ipython",
    "version": 3
   },
   "file_extension": ".py",
   "mimetype": "text/x-python",
   "name": "python",
   "nbconvert_exporter": "python",
   "pygments_lexer": "ipython3",
   "version": "3.11.11"
  }
 },
 "nbformat": 4,
 "nbformat_minor": 2
}
