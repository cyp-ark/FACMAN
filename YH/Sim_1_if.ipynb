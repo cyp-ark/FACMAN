{
 "cells": [
  {
   "cell_type": "code",
   "execution_count": null,
   "metadata": {},
   "outputs": [
    {
     "name": "stderr",
     "output_type": "stream",
     "text": [
      "C:\\Users\\Admin\\AppData\\Local\\Temp\\ipykernel_7072\\407108958.py:10: LangChainDeprecationWarning: The class `ChatOpenAI` was deprecated in LangChain 0.0.10 and will be removed in 1.0. An updated version of the class exists in the :class:`~langchain-openai package and should be used instead. To use it run `pip install -U :class:`~langchain-openai` and import as `from :class:`~langchain_openai import ChatOpenAI``.\n",
      "  llm = ChatOpenAI(model=\"gpt-4o-mini\", temperature=0, api_key=os.getenv(\"OPENAI_API_KEY\"))\n"
     ]
    }
   ],
   "source": [
    "# 1. 라이브러리 및 환경 설정\n",
    "from typing import TypedDict\n",
    "from langgraph.graph import StateGraph\n",
    "from langchain.chat_models import ChatOpenAI\n",
    "from langchain_core.runnables import RunnableLambda\n",
    "import os\n",
    "from dotenv import load_dotenv\n",
    "\n",
    "load_dotenv()\n",
    "llm = ChatOpenAI(model=\"gpt-4o-mini\", temperature=0, api_key=os.getenv(\"OPENAI_API_KEY\"))"
   ]
  },
  {
   "cell_type": "code",
   "execution_count": 2,
   "metadata": {},
   "outputs": [],
   "source": [
    "# 2. 상태 정의\n",
    "class QAState(TypedDict):\n",
    "    question: str\n",
    "    route_label: str\n",
    "    retrieved: str\n",
    "    answer: str"
   ]
  },
  {
   "cell_type": "code",
   "execution_count": 3,
   "metadata": {},
   "outputs": [],
   "source": [
    "# 3. 라우팅 판단 함수 (if문 기반)\n",
    "def rule_based_router(state: QAState) -> QAState:\n",
    "    question = state[\"question\"]\n",
    "    lowered = question.lower()\n",
    "\n",
    "    if any(keyword in lowered for keyword in [\"뉴스\", \"요즘\", \"오늘\", \"최근\", \"이슈\"]):\n",
    "        state[\"route_label\"] = \"web\"\n",
    "    elif any(keyword in lowered for keyword in [\"회의\", \"요약\", \"기록\", \"회의록\"]):\n",
    "        state[\"route_label\"] = \"db\"\n",
    "    else:\n",
    "        state[\"route_label\"] = \"general\"\n",
    "\n",
    "    print(f\"🧠 [Rule 기반 판단] → {state['route_label']}\")\n",
    "    return state\n",
    "\n",
    "# 조건 분기용 함수\n",
    "def return_route_key(state: QAState) -> str:\n",
    "    return state[\"route_label\"]"
   ]
  },
  {
   "cell_type": "code",
   "execution_count": null,
   "metadata": {},
   "outputs": [],
   "source": [
    "# 4. 분기별 노드 정의\n",
    "def general_llm(state: QAState) -> QAState:\n",
    "    response = llm.invoke(f\"질문: {state['question']}\\n\\n위 질문에 답해주세요.\")\n",
    "    state[\"answer\"] = response.content.strip()\n",
    "    return state\n",
    "\n",
    "def web_search(state: QAState) -> QAState:\n",
    "    state[\"retrieved\"] = \"[웹 검색 결과] 오늘의 주요 뉴스를 요약했습니다.\"\n",
    "    return state\n",
    "\n",
    "def db_search(state: QAState) -> QAState:\n",
    "    state[\"retrieved\"] = \"[DB 검색 결과] 회의 내용을 요약했습니다.\"\n",
    "    return state\n",
    "\n",
    "def generate_answer(state: QAState) -> QAState:\n",
    "    if state.get(\"retrieved\"):\n",
    "        state[\"answer\"] = f\"[검색 기반 응답] {state['retrieved']}\"\n",
    "    return state"
   ]
  },
  {
   "cell_type": "code",
   "execution_count": null,
   "metadata": {},
   "outputs": [],
   "source": [
    "# 5. LangGraph 구성 (rule 기반 판단 적용)\n",
    "def build_rule_based_graph():\n",
    "    builder = StateGraph(QAState)\n",
    "\n",
    "    # 판단 노드만 rule 기반으로 적용\n",
    "    builder.add_node(\"judge_route\", RunnableLambda(rule_based_router))\n",
    "    builder.add_node(\"general\", RunnableLambda(general_llm))\n",
    "    builder.add_node(\"web\", RunnableLambda(web_search))\n",
    "    builder.add_node(\"db\", RunnableLambda(db_search))\n",
    "    builder.add_node(\"generate\", RunnableLambda(generate_answer))\n",
    "\n",
    "    builder.set_entry_point(\"judge_route\")\n",
    "\n",
    "    builder.add_conditional_edges(\n",
    "        \"judge_route\",\n",
    "        return_route_key,\n",
    "        {\n",
    "            \"general\": \"general\",\n",
    "            \"web\": \"web\",\n",
    "            \"db\": \"db\"\n",
    "        }\n",
    "    )\n",
    "\n",
    "    builder.add_edge(\"general\", \"generate\")\n",
    "    builder.add_edge(\"web\", \"generate\")\n",
    "    builder.add_edge(\"db\", \"generate\")\n",
    "\n",
    "    builder.set_finish_point(\"generate\")\n",
    "\n",
    "    return builder.compile()"
   ]
  },
  {
   "cell_type": "code",
   "execution_count": 6,
   "metadata": {},
   "outputs": [
    {
     "name": "stdout",
     "output_type": "stream",
     "text": [
      "\n",
      "❓ 질문: 에이전트란 무엇인가요?\n",
      "🧠 [Rule 기반 판단] → general\n",
      "✅ 응답: \"에이전트\"라는 용어는 다양한 맥락에서 사용될 수 있지만, 일반적으로 다음과 같은 의미를 가집니다.\n",
      "\n",
      "1. **일반적인 의미**: 에이전트는 어떤 일을 대신 수행하는 대리인이나 대행자를 의미합니다. 예를 들어, 부동산 에이전트는 고객을 대신하여 부동산 거래를 중개하는 역할을 합니다.\n",
      "\n",
      "2. **컴퓨터 과학 및 인공지능**: 에이전트는 특정 환경에서 자율적으로 행동하고 결정을 내릴 수 있는 프로그램이나 시스템을 의미합니다. 예를 들어, 소프트웨어 에이전트는 사용자의 요구를 충족시키기 위해 정보를 수집하고 처리하는 역할을 합니다.\n",
      "\n",
      "3. **비즈니스 및 마케팅**: 에이전트는 특정 제품이나 서비스를 홍보하고 판매하는 역할을 하는 사람이나 회사를 지칭할 수 있습니다. 이들은 제조업체와 소비자 간의 중개 역할을 합니다.\n",
      "\n",
      "4. **법률**: 법률에서 에이전트는 다른 사람(주체)을 대신하여 법적 행위를 수행할 수 있는 권한을 가진 사람을 의미합니다.\n",
      "\n",
      "따라서 \"에이전트\"라는 용어는 그 사용되는 분야에 따라 다양한 의미를 가질 수 있습니다.\n",
      "\n",
      "❓ 질문: 오늘의 주요 뉴스 알려줘\n",
      "🧠 [Rule 기반 판단] → web\n",
      "✅ 응답: [검색 기반 응답] [웹 검색 결과] 오늘의 주요 뉴스를 요약했습니다.\n",
      "\n",
      "❓ 질문: 지난 회의 요약해줘\n",
      "🧠 [Rule 기반 판단] → db\n",
      "✅ 응답: [검색 기반 응답] [DB 검색 결과] 회의 내용을 요약했습니다.\n"
     ]
    }
   ],
   "source": [
    "# 6. 테스트 실행\n",
    "graph = build_rule_based_graph()\n",
    "\n",
    "questions = [\n",
    "    \"에이전트란 무엇인가요?\",\n",
    "    \"오늘의 주요 뉴스 알려줘\",\n",
    "    \"지난 회의 요약해줘\"\n",
    "]\n",
    "\n",
    "for q in questions:\n",
    "    print(f\"\\n❓ 질문: {q}\")\n",
    "    result = graph.invoke({\n",
    "        \"question\": q,\n",
    "        \"route_label\": \"\",\n",
    "        \"retrieved\": \"\",\n",
    "        \"answer\": \"\"\n",
    "    })\n",
    "    print(f\"✅ 응답: {result['answer']}\")"
   ]
  }
 ],
 "metadata": {
  "kernelspec": {
   "display_name": "tf",
   "language": "python",
   "name": "python3"
  },
  "language_info": {
   "codemirror_mode": {
    "name": "ipython",
    "version": 3
   },
   "file_extension": ".py",
   "mimetype": "text/x-python",
   "name": "python",
   "nbconvert_exporter": "python",
   "pygments_lexer": "ipython3",
   "version": "3.10.16"
  }
 },
 "nbformat": 4,
 "nbformat_minor": 2
}
